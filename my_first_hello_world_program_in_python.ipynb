{
  "nbformat": 4,
  "nbformat_minor": 0,
  "metadata": {
    "colab": {
      "provenance": [],
      "authorship_tag": "ABX9TyOSWXrFe6ozaqxYBJA/RCNl",
      "include_colab_link": true
    },
    "kernelspec": {
      "name": "python3",
      "display_name": "Python 3"
    },
    "language_info": {
      "name": "python"
    }
  },
  "cells": [
    {
      "cell_type": "markdown",
      "metadata": {
        "id": "view-in-github",
        "colab_type": "text"
      },
      "source": [
        "<a href=\"https://colab.research.google.com/github/meharshadchavan/meharshadchavan/blob/main/my_first_hello_world_program_in_python.ipynb\" target=\"_parent\"><img src=\"https://colab.research.google.com/assets/colab-badge.svg\" alt=\"Open In Colab\"/></a>"
      ]
    },
    {
      "cell_type": "code",
      "execution_count": null,
      "metadata": {
        "colab": {
          "base_uri": "https://localhost:8080/"
        },
        "id": "GHLhPFf_jLO9",
        "outputId": "b6cab927-456b-449e-89af-4a53a6708a1b"
      },
      "outputs": [
        {
          "output_type": "stream",
          "name": "stdout",
          "text": [
            "Hello World\n"
          ]
        }
      ],
      "source": [
        "\n",
        "print(\"Hello World\")\n"
      ]
    },
    },
    {
      "cell_type": "markdown",
      "metadata": {
        "id": "demonstrating-user-input"
      },
      "source": [
        "## Demonstrating User Input"
      ]
    },
    {
      "cell_type": "code",
      "execution_count": null,
      "metadata": {
        "id": "user-input-code"
      },
      "outputs": [],
      "source": [
        "user_name = input(\"What is your name? \")"
      ]
    },
    {
      "cell_type": "markdown",
      "metadata": {
        "id": "displaying-user-input"
      },
      "source": [
        "## Displaying User Input"
      ]
    },
    {
      "cell_type": "code",
      "execution_count": null,
      "metadata": {
        "id": "display-input-code"
      },
      "outputs": [],
      "source": [
        "print(f\"Hello, {user_name}!\")"
      ]
    },
    {
      "cell_type": "markdown",
      "metadata": {
        "id": "writing-to-file"
      },
      "source": [
        "## Writing to a File"
      ]
    },
    {
      "cell_type": "code",
      "execution_count": null,
      "metadata": {
        "id": "file-writing-code"
      },
      "outputs": [],
      "source": [
        "try:\n",
        "    with open('demo_output.txt', 'w') as f:\n",
        "        f.write(\"This is a line written to the file by the demo.\\n\")\n",
        "        if 'user_name' in locals():\n",
        "            f.write(f\"The user's name is: {user_name}\\n\")\n",
        "        else:\n",
        "            f.write(\"User name was not provided in this session.\\n\")\n",
        "    print(\"Successfully wrote to demo_output.txt\")\n",
        "except Exception as e:\n",
        "    print(f\"An error occurred while writing to the file: {e}\")"
      ]
    },
    {
      "cell_type": "markdown",
      "metadata": {
        "id": "reading-from-file"
      },
      "source": [
        "## Reading from a File"
      ]
    },
    {
      "cell_type": "code",
      "execution_count": null,
      "metadata": {
        "id": "file-reading-code"
      },
      "outputs": [],
      "source": [
        "try:\n",
        "    with open('demo_output.txt', 'r') as f:\n",
        "        content = f.read()\n",
        "        print(\"Content of demo_output.txt:\")\n",
        "        print(content)\n",
        "    print(\"Successfully read from demo_output.txt and displayed its content.\")\n",
        "except FileNotFoundError:\n",
        "    print(\"Error: demo_output.txt not found. Please run the file writing cell first.\")\n",
        "except Exception as e:\n",
        "    print(f\"An error occurred while reading the file: {e}\")"
      ]
    }
  ]
}